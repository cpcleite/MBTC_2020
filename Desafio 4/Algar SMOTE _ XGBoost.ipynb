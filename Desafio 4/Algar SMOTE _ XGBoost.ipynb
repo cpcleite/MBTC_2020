{
 "cells": [
  {
   "cell_type": "code",
   "execution_count": 2,
   "metadata": {},
   "outputs": [],
   "source": [
    "#!pip install sklearn --upgrade\n",
    "#!pip install imblearn --upgrade"
   ]
  },
  {
   "cell_type": "code",
   "execution_count": 3,
   "metadata": {},
   "outputs": [],
   "source": [
    "import pandas               as pd\n",
    "#import matplotlib.pyplot    as plt\n",
    "\n",
    "from sklearn.model_selection  import train_test_split, GridSearchCV,\\\n",
    "                                     StratifiedKFold\n",
    "from sklearn.preprocessing    import OneHotEncoder\n",
    "from sklearn.metrics          import balanced_accuracy_score,\\\n",
    "                                     confusion_matrix, roc_auc_score\n",
    "# Import xgboost\n",
    "import xgboost              as xgb\n",
    "\n",
    "from imblearn.over_sampling   import SMOTE\n",
    "from imblearn.under_sampling  import RandomUnderSampler\n",
    "from imblearn.pipeline        import Pipeline"
   ]
  },
  {
   "cell_type": "code",
   "execution_count": 4,
   "metadata": {},
   "outputs": [
    {
     "ename": "ModuleNotFoundError",
     "evalue": "No module named 'botocore'",
     "output_type": "error",
     "traceback": [
      "\u001b[1;31m---------------------------------------------------------------------------\u001b[0m",
      "\u001b[1;31mModuleNotFoundError\u001b[0m                       Traceback (most recent call last)",
      "\u001b[1;32m<ipython-input-4-dadc9f614356>\u001b[0m in \u001b[0;36m<module>\u001b[1;34m\u001b[0m\n\u001b[0;32m      1\u001b[0m \u001b[1;32mimport\u001b[0m \u001b[0mtypes\u001b[0m\u001b[1;33m\u001b[0m\u001b[1;33m\u001b[0m\u001b[0m\n\u001b[0;32m      2\u001b[0m \u001b[1;32mimport\u001b[0m \u001b[0mpandas\u001b[0m \u001b[1;32mas\u001b[0m \u001b[0mpd\u001b[0m\u001b[1;33m\u001b[0m\u001b[1;33m\u001b[0m\u001b[0m\n\u001b[1;32m----> 3\u001b[1;33m \u001b[1;32mfrom\u001b[0m \u001b[0mbotocore\u001b[0m\u001b[1;33m.\u001b[0m\u001b[0mclient\u001b[0m \u001b[1;32mimport\u001b[0m \u001b[0mConfig\u001b[0m\u001b[1;33m\u001b[0m\u001b[1;33m\u001b[0m\u001b[0m\n\u001b[0m\u001b[0;32m      4\u001b[0m \u001b[1;32mimport\u001b[0m \u001b[0mibm_boto3\u001b[0m\u001b[1;33m\u001b[0m\u001b[1;33m\u001b[0m\u001b[0m\n\u001b[0;32m      5\u001b[0m \u001b[1;33m\u001b[0m\u001b[0m\n",
      "\u001b[1;31mModuleNotFoundError\u001b[0m: No module named 'botocore'"
     ]
    }
   ],
   "source": [
    "\n",
    "import types\n",
    "import pandas as pd\n",
    "from botocore.client import Config\n",
    "import ibm_boto3\n",
    "\n",
    "def __iter__(self): return 0\n",
    "\n",
    "# @hidden_cell\n",
    "# The following code accesses a file in your IBM Cloud Object Storage. It includes your credentials.\n",
    "# You might want to remove those credentials before you share the notebook.\n",
    "#client_7463ca614953494181369d0b1ae8c0f2 = ibm_boto3.client(service_name='s3',\n",
    "#    ibm_api_key_id='hh_MYLG-3Hq-R7hcNvajeJcBLBiWFFT49huB1lJerY5s',\n",
    "#    ibm_auth_endpoint=\"https://iam.cloud.ibm.com/oidc/token\",\n",
    "#    config=Config(signature_version='oauth'),\n",
    "#    endpoint_url='https://s3.eu-geo.objectstorage.service.networklayer.com')\n",
    "\n",
    "#body = client_7463ca614953494181369d0b1ae8c0f2.get_object(Bucket='algar-donotdelete-pr-oazmap8qrzxynm',Key='algar-dataset-treino.csv')['Body']\n",
    "# add missing __iter__ method, so pandas accepts body as file-like object\n",
    "#if not hasattr(body, \"__iter__\"): body.__iter__ = types.MethodType( __iter__, body )\n",
    "\n",
    "#df = pd.read_csv(body)\n",
    "#df_data_1.head()\n"
   ]
  },
  {
   "cell_type": "code",
   "execution_count": null,
   "metadata": {},
   "outputs": [],
   "source": [
    "# Columns ith one value\n",
    "a= [col for col in df.columns if df[col].value_counts().count()<2]\n",
    "print('Columns with unique value:', a)"
   ]
  },
  {
   "cell_type": "code",
   "execution_count": null,
   "metadata": {},
   "outputs": [],
   "source": [
    "# Subordinado has unique values\n",
    "print(df['Subordinado'].value_counts().count() == len(df['Subordinado']))"
   ]
  },
  {
   "cell_type": "code",
   "execution_count": null,
   "metadata": {},
   "outputs": [],
   "source": [
    "# Get Features and target\n",
    "X = df.iloc[:,:-1]\n",
    "y = df.iloc[:,-1]\n",
    "\n",
    "# Eliminate columns with unique feature values\n",
    "X = X.drop(a + ['Subordinado'], axis=1)\n",
    "\n",
    "# Categorical Columns\n",
    "c_columns = X.select_dtypes(include='object')\n",
    "nc_columns = [col for col in X.columns if col not in c_columns.columns]\n",
    "\n",
    "ohe = OneHotEncoder(handle_unknown='ignore')\n",
    "\n",
    "c_columns = pd.DataFrame(ohe.fit_transform(c_columns).toarray())\n",
    "c_columns.columns = ohe.get_feature_names()\n",
    "\n",
    "X = pd.concat([X[nc_columns], c_columns], axis=1)"
   ]
  },
  {
   "cell_type": "code",
   "execution_count": null,
   "metadata": {},
   "outputs": [],
   "source": [
    "# Train test split  75% / 25%\n",
    "X_train, X_test, y_train, y_test = train_test_split(X, y, test_size=0.25, random_state=555)"
   ]
  },
  {
   "cell_type": "code",
   "execution_count": null,
   "metadata": {},
   "outputs": [],
   "source": [
    "# Assemble Model\n",
    "\n",
    "# Instantiate the XGBClassifier: xg_cl\n",
    "xg_cl = xgb.XGBClassifier(objective='binary:logistic', random_state=123)\n",
    "\n",
    "# tunning parameters\n",
    "gbm_param_grid = [\n",
    "    {\n",
    "     'SMOTE__sampling_strategy': [0.5, 0.4, 0.3],\n",
    "     'under__sampling_strategy': [0.5, 0.6, 0.7],\n",
    "     'model__colsample_bytree': [0.055],\n",
    "     'model__n_estimators': [130, 150, 200],\n",
    "     'model__max_depth': [1, 2, 3],\n",
    "     'model__reg_alpha': [0, 0.25, 0.3, 0.35],\n",
    "     'model__learning_rate': [0.3, 0.35, 0.5, 0.6]\n",
    "    }\n",
    "]\n",
    "# Instantiate the classifier: gbm\n",
    "gbm = xgb.XGBClassifier()\n",
    "over = SMOTE(sampling_strategy=0.5)\n",
    "under = RandomUnderSampler(sampling_strategy=0.5, random_state=555)\n",
    "kfold = StratifiedKFold(n_splits=5, shuffle=False)\n",
    "\n",
    "# Assamble Pipeline\n",
    "steps = [('SMOTE', over),\n",
    "         ('under', under), \n",
    "         ('model', gbm)]\n",
    "\n",
    "pipeline = Pipeline(steps=steps)\n",
    "\n",
    "# Perform grid search: grid_mse\n",
    "grid_acc = GridSearchCV(param_grid=gbm_param_grid, estimator=pipeline,\n",
    "                        scoring = \"balanced_accuracy\", cv=kfold, verbose=1,\n",
    "                        n_jobs=4)"
   ]
  },
  {
   "cell_type": "code",
   "execution_count": null,
   "metadata": {},
   "outputs": [],
   "source": [
    "#Tune Model\n",
    "# Fit grid_mse to the data\n",
    "grid_acc.fit(X_train, y_train)"
   ]
  },
  {
   "cell_type": "code",
   "execution_count": 5,
   "metadata": {},
   "outputs": [
    {
     "ename": "NameError",
     "evalue": "name 'grid_acc' is not defined",
     "output_type": "error",
     "traceback": [
      "\u001b[1;31m---------------------------------------------------------------------------\u001b[0m",
      "\u001b[1;31mNameError\u001b[0m                                 Traceback (most recent call last)",
      "\u001b[1;32m<ipython-input-5-30eb48dd532d>\u001b[0m in \u001b[0;36m<module>\u001b[1;34m\u001b[0m\n\u001b[0;32m      1\u001b[0m \u001b[1;31m# Print scores\u001b[0m\u001b[1;33m\u001b[0m\u001b[1;33m\u001b[0m\u001b[1;33m\u001b[0m\u001b[0m\n\u001b[0;32m      2\u001b[0m \u001b[1;31m# Print the best parameters and lowest RMSE\u001b[0m\u001b[1;33m\u001b[0m\u001b[1;33m\u001b[0m\u001b[1;33m\u001b[0m\u001b[0m\n\u001b[1;32m----> 3\u001b[1;33m \u001b[0mprint\u001b[0m\u001b[1;33m(\u001b[0m\u001b[1;34m\"\\nBest parameters found: \"\u001b[0m\u001b[1;33m,\u001b[0m \u001b[0mgrid_acc\u001b[0m\u001b[1;33m.\u001b[0m\u001b[0mbest_params_\u001b[0m\u001b[1;33m)\u001b[0m\u001b[1;33m\u001b[0m\u001b[1;33m\u001b[0m\u001b[0m\n\u001b[0m\u001b[0;32m      4\u001b[0m \u001b[0mprint\u001b[0m\u001b[1;33m(\u001b[0m\u001b[1;34m\"\\nHighest average balanced accuracy found: %.4f\"\u001b[0m \u001b[1;33m%\u001b[0m \u001b[0mgrid_acc\u001b[0m\u001b[1;33m.\u001b[0m\u001b[0mbest_score_\u001b[0m\u001b[1;33m)\u001b[0m\u001b[1;33m\u001b[0m\u001b[1;33m\u001b[0m\u001b[0m\n\u001b[0;32m      5\u001b[0m \u001b[1;33m\u001b[0m\u001b[0m\n",
      "\u001b[1;31mNameError\u001b[0m: name 'grid_acc' is not defined"
     ]
    }
   ],
   "source": [
    "# Print scores\n",
    "# Print the best parameters and lowest RMSE\n",
    "print(\"\\nBest parameters found: \", grid_acc.best_params_)\n",
    "print(\"\\nHighest average balanced accuracy found: %.4f\" % grid_acc.best_score_)\n",
    "\n",
    "print('\\nBest Estimator: \\n', grid_acc.best_estimator_)\n",
    "\n",
    "print(' \\nBest test score: %f' % (grid_acc.score(X_test, y_test)))\n",
    "\n",
    "#Print scores\n",
    "print('\\nTrain score: %f' % grid_acc.score(X_train, y_train))\n",
    "print('Test  score: %f\\n' % grid_acc.score(X_test, y_test))\n",
    "\n",
    "y_pred = grid_acc.predict(X_test)\n",
    "ba = balanced_accuracy_score(y_test, y_pred)\n",
    "cm = confusion_matrix(y_test, y_pred, labels=['Não', 'Sim'])\n",
    "ac = cm[0,0]/(cm[0,0]+cm[0,1])\n",
    "sp = cm[1,1]/(cm[1,1]+cm[1,0])\n",
    "auc = roc_auc_score(y_test=='Não', y_pred=='Não')\n",
    "\n",
    "print('\\nBalanced Accuracy : %.4f' % ba)\n",
    "print('AUC               : %.4f' % auc)\n",
    "print('Accuracy          : %.4f' % ac)\n",
    "print('Specificity       : %.4f\\n' % sp)"
   ]
  },
  {
   "cell_type": "code",
   "execution_count": null,
   "metadata": {},
   "outputs": [],
   "source": []
  }
 ],
 "metadata": {
  "kernelspec": {
   "display_name": "Python 3",
   "language": "python",
   "name": "python3"
  },
  "language_info": {
   "codemirror_mode": {
    "name": "ipython",
    "version": 3
   },
   "file_extension": ".py",
   "mimetype": "text/x-python",
   "name": "python",
   "nbconvert_exporter": "python",
   "pygments_lexer": "ipython3",
   "version": "3.7.7"
  }
 },
 "nbformat": 4,
 "nbformat_minor": 4
}
