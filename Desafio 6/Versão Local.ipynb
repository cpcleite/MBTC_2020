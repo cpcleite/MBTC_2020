{
 "cells": [
  {
   "cell_type": "code",
   "execution_count": null,
   "metadata": {},
   "outputs": [],
   "source": []
  },
  {
   "cell_type": "markdown",
   "metadata": {},
   "source": [
    "# MARATONA BEHIND THE CODE 2020\n",
    "\n",
    "## DESAFIO 6 - LIT"
   ]
  },
  {
   "cell_type": "markdown",
   "metadata": {},
   "source": [
    "<hr>"
   ]
  },
  {
   "cell_type": "markdown",
   "metadata": {},
   "source": [
    "## Installing Libs"
   ]
  },
  {
   "cell_type": "code",
   "execution_count": 51,
   "metadata": {},
   "outputs": [
    {
     "name": "stdout",
     "output_type": "stream",
     "text": [
      "Requirement already up-to-date: scikit-learn in c:\\users\\cpcle\\anaconda3\\lib\\site-packages (0.23.2)\n",
      "Requirement already satisfied, skipping upgrade: threadpoolctl>=2.0.0 in c:\\users\\cpcle\\anaconda3\\lib\\site-packages (from scikit-learn) (2.1.0)\n",
      "Requirement already satisfied, skipping upgrade: joblib>=0.11 in c:\\users\\cpcle\\anaconda3\\lib\\site-packages (from scikit-learn) (0.16.0)\n",
      "Requirement already satisfied, skipping upgrade: scipy>=0.19.1 in c:\\users\\cpcle\\anaconda3\\lib\\site-packages (from scikit-learn) (1.5.2)\n",
      "Requirement already satisfied, skipping upgrade: numpy>=1.13.3 in c:\\users\\cpcle\\anaconda3\\lib\\site-packages (from scikit-learn) (1.19.1)\n"
     ]
    }
   ],
   "source": [
    "!pip install scikit-learn --upgrade"
   ]
  },
  {
   "cell_type": "code",
   "execution_count": 52,
   "metadata": {},
   "outputs": [
    {
     "name": "stdout",
     "output_type": "stream",
     "text": [
      "Requirement already up-to-date: xgboost in c:\\users\\cpcle\\anaconda3\\lib\\site-packages (1.2.0)\n",
      "Requirement already satisfied, skipping upgrade: scipy in c:\\users\\cpcle\\anaconda3\\lib\\site-packages (from xgboost) (1.5.2)\n",
      "Requirement already satisfied, skipping upgrade: numpy in c:\\users\\cpcle\\anaconda3\\lib\\site-packages (from xgboost) (1.19.1)\n"
     ]
    }
   ],
   "source": [
    "!pip install xgboost --upgrade"
   ]
  },
  {
   "cell_type": "code",
   "execution_count": 53,
   "metadata": {},
   "outputs": [
    {
     "name": "stdout",
     "output_type": "stream",
     "text": [
      "Requirement already up-to-date: imblearn in c:\\users\\cpcle\\anaconda3\\lib\\site-packages (0.0)\n",
      "Requirement already satisfied, skipping upgrade: imbalanced-learn in c:\\users\\cpcle\\anaconda3\\lib\\site-packages (from imblearn) (0.7.0)\n",
      "Requirement already satisfied, skipping upgrade: numpy>=1.13.3 in c:\\users\\cpcle\\anaconda3\\lib\\site-packages (from imbalanced-learn->imblearn) (1.19.1)\n",
      "Requirement already satisfied, skipping upgrade: joblib>=0.11 in c:\\users\\cpcle\\anaconda3\\lib\\site-packages (from imbalanced-learn->imblearn) (0.16.0)\n",
      "Requirement already satisfied, skipping upgrade: scipy>=0.19.1 in c:\\users\\cpcle\\anaconda3\\lib\\site-packages (from imbalanced-learn->imblearn) (1.5.2)\n",
      "Requirement already satisfied, skipping upgrade: scikit-learn>=0.23 in c:\\users\\cpcle\\anaconda3\\lib\\site-packages (from imbalanced-learn->imblearn) (0.23.2)\n",
      "Requirement already satisfied, skipping upgrade: threadpoolctl>=2.0.0 in c:\\users\\cpcle\\anaconda3\\lib\\site-packages (from scikit-learn>=0.23->imbalanced-learn->imblearn) (2.1.0)\n"
     ]
    }
   ],
   "source": [
    "!pip install imblearn --upgrade"
   ]
  },
  {
   "cell_type": "markdown",
   "metadata": {},
   "source": [
    "<hr>"
   ]
  },
  {
   "cell_type": "markdown",
   "metadata": {},
   "source": [
    "## Download dos conjuntos de dados em formato .csv"
   ]
  },
  {
   "cell_type": "code",
   "execution_count": 54,
   "metadata": {},
   "outputs": [],
   "source": [
    "import pandas as pd"
   ]
  },
  {
   "cell_type": "code",
   "execution_count": 55,
   "metadata": {},
   "outputs": [
    {
     "data": {
      "text/html": [
       "<div>\n",
       "<style scoped>\n",
       "    .dataframe tbody tr th:only-of-type {\n",
       "        vertical-align: middle;\n",
       "    }\n",
       "\n",
       "    .dataframe tbody tr th {\n",
       "        vertical-align: top;\n",
       "    }\n",
       "\n",
       "    .dataframe thead th {\n",
       "        text-align: right;\n",
       "    }\n",
       "</style>\n",
       "<table border=\"1\" class=\"dataframe\">\n",
       "  <thead>\n",
       "    <tr style=\"text-align: right;\">\n",
       "      <th></th>\n",
       "      <th>id</th>\n",
       "      <th>graduacao</th>\n",
       "      <th>universidade</th>\n",
       "      <th>profissao</th>\n",
       "      <th>organizacao</th>\n",
       "      <th>pretende_fazer_cursos_lit</th>\n",
       "      <th>interesse_mba_lit</th>\n",
       "      <th>importante_ter_certificado</th>\n",
       "      <th>horas_semanais_estudo</th>\n",
       "      <th>como_conheceu_lit</th>\n",
       "      <th>total_modulos</th>\n",
       "      <th>modulos_iniciados</th>\n",
       "      <th>modulos_finalizados</th>\n",
       "      <th>certificados</th>\n",
       "      <th>categoria</th>\n",
       "    </tr>\n",
       "  </thead>\n",
       "  <tbody>\n",
       "    <tr>\n",
       "      <th>15852</th>\n",
       "      <td>620397030.0</td>\n",
       "      <td>Bacharelado</td>\n",
       "      <td>UFF</td>\n",
       "      <td>Outros</td>\n",
       "      <td>Borracha</td>\n",
       "      <td>0.0</td>\n",
       "      <td>0.0</td>\n",
       "      <td>1.0</td>\n",
       "      <td>8.0</td>\n",
       "      <td>NaN</td>\n",
       "      <td>10.0</td>\n",
       "      <td>NaN</td>\n",
       "      <td>NaN</td>\n",
       "      <td>NaN</td>\n",
       "      <td>perfil6</td>\n",
       "    </tr>\n",
       "    <tr>\n",
       "      <th>15853</th>\n",
       "      <td>229931283.0</td>\n",
       "      <td>Bacharelado</td>\n",
       "      <td>NaN</td>\n",
       "      <td>Advogado</td>\n",
       "      <td>NaN</td>\n",
       "      <td>0.0</td>\n",
       "      <td>0.0</td>\n",
       "      <td>1.0</td>\n",
       "      <td>7.0</td>\n",
       "      <td>Linkedin</td>\n",
       "      <td>42.0</td>\n",
       "      <td>17.0</td>\n",
       "      <td>15.0</td>\n",
       "      <td>NaN</td>\n",
       "      <td>perfil5</td>\n",
       "    </tr>\n",
       "    <tr>\n",
       "      <th>15854</th>\n",
       "      <td>480674907.0</td>\n",
       "      <td>Tecnólogo</td>\n",
       "      <td>UNIP</td>\n",
       "      <td>Sócio/Dono/Proprietário</td>\n",
       "      <td>NaN</td>\n",
       "      <td>0.0</td>\n",
       "      <td>NaN</td>\n",
       "      <td>1.0</td>\n",
       "      <td>7.0</td>\n",
       "      <td>Outros</td>\n",
       "      <td>30.0</td>\n",
       "      <td>9.0</td>\n",
       "      <td>8.0</td>\n",
       "      <td>0.0</td>\n",
       "      <td>perfil5</td>\n",
       "    </tr>\n",
       "    <tr>\n",
       "      <th>15855</th>\n",
       "      <td>559626807.0</td>\n",
       "      <td>SEM FORMAÇÃO</td>\n",
       "      <td>UNIVERSIDADE NOVE DE JULHO</td>\n",
       "      <td>Advogado</td>\n",
       "      <td>Estado</td>\n",
       "      <td>0.0</td>\n",
       "      <td>0.0</td>\n",
       "      <td>1.0</td>\n",
       "      <td>10.0</td>\n",
       "      <td>NaN</td>\n",
       "      <td>226.0</td>\n",
       "      <td>102.0</td>\n",
       "      <td>93.0</td>\n",
       "      <td>1.0</td>\n",
       "      <td>perfil1</td>\n",
       "    </tr>\n",
       "    <tr>\n",
       "      <th>15856</th>\n",
       "      <td>743652801.0</td>\n",
       "      <td>NaN</td>\n",
       "      <td>FGV-RJ</td>\n",
       "      <td>NaN</td>\n",
       "      <td>Siderurgica</td>\n",
       "      <td>1.0</td>\n",
       "      <td>1.0</td>\n",
       "      <td>1.0</td>\n",
       "      <td>9.0</td>\n",
       "      <td>Outros</td>\n",
       "      <td>125.0</td>\n",
       "      <td>98.0</td>\n",
       "      <td>97.0</td>\n",
       "      <td>1.0</td>\n",
       "      <td>perfil1</td>\n",
       "    </tr>\n",
       "  </tbody>\n",
       "</table>\n",
       "</div>"
      ],
      "text/plain": [
       "                id     graduacao                universidade  \\\n",
       "15852  620397030.0   Bacharelado                         UFF   \n",
       "15853  229931283.0   Bacharelado                         NaN   \n",
       "15854  480674907.0     Tecnólogo                        UNIP   \n",
       "15855  559626807.0  SEM FORMAÇÃO  UNIVERSIDADE NOVE DE JULHO   \n",
       "15856  743652801.0           NaN                      FGV-RJ   \n",
       "\n",
       "                     profissao  organizacao  pretende_fazer_cursos_lit  \\\n",
       "15852                   Outros     Borracha                        0.0   \n",
       "15853                 Advogado          NaN                        0.0   \n",
       "15854  Sócio/Dono/Proprietário          NaN                        0.0   \n",
       "15855                 Advogado       Estado                        0.0   \n",
       "15856                      NaN  Siderurgica                        1.0   \n",
       "\n",
       "       interesse_mba_lit  importante_ter_certificado  horas_semanais_estudo  \\\n",
       "15852                0.0                         1.0                    8.0   \n",
       "15853                0.0                         1.0                    7.0   \n",
       "15854                NaN                         1.0                    7.0   \n",
       "15855                0.0                         1.0                   10.0   \n",
       "15856                1.0                         1.0                    9.0   \n",
       "\n",
       "      como_conheceu_lit  total_modulos  modulos_iniciados  \\\n",
       "15852               NaN           10.0                NaN   \n",
       "15853          Linkedin           42.0               17.0   \n",
       "15854            Outros           30.0                9.0   \n",
       "15855               NaN          226.0              102.0   \n",
       "15856            Outros          125.0               98.0   \n",
       "\n",
       "       modulos_finalizados  certificados categoria  \n",
       "15852                  NaN           NaN   perfil6  \n",
       "15853                 15.0           NaN   perfil5  \n",
       "15854                  8.0           0.0   perfil5  \n",
       "15855                 93.0           1.0   perfil1  \n",
       "15856                 97.0           1.0   perfil1  "
      ]
     },
     "execution_count": 55,
     "metadata": {},
     "output_type": "execute_result"
    }
   ],
   "source": [
    "#!wget --no-check-certificate --content-disposition https://raw.githubusercontent.com/vanderlei-test/dataset-3/master/training_dataset.csv\n",
    "df_training_dataset = pd.read_csv(r'C:\\Users\\cpcle\\OneDrive\\Documentos\\Celso\\Maratona Behind the Code 2020\\Desafio 6\\training_dataset.csv')\n",
    "df_training_dataset.tail()"
   ]
  },
  {
   "cell_type": "markdown",
   "metadata": {},
   "source": [
    "Sobre o arquivo \"training_dataset.csv\", temos algumas informações gerais sobre os usuários da plataforma:\n",
    "\n",
    "**id**\n",
    "\n",
    "**graduacao**\n",
    "\n",
    "**universidade**\n",
    "\n",
    "**profissao**\n",
    "\n",
    "**organizacao**\n",
    "\n",
    "**pretende_fazer_cursos_lit**\n",
    "\n",
    "**interesse_mba_lit**\n",
    "\n",
    "**importante_ter_certificado**\n",
    "\n",
    "**horas_semanais_estudo**\n",
    "\n",
    "**como_conheceu_lit**\n",
    "\n",
    "**total_modulos**\n",
    "\n",
    "**modulos_iniciados**\n",
    "\n",
    "**modulos_finalizados**\n",
    "\n",
    "**certificados**\n",
    "\n",
    "**categoria**"
   ]
  },
  {
   "cell_type": "code",
   "execution_count": 56,
   "metadata": {},
   "outputs": [
    {
     "name": "stdout",
     "output_type": "stream",
     "text": [
      "<class 'pandas.core.frame.DataFrame'>\n",
      "RangeIndex: 15857 entries, 0 to 15856\n",
      "Data columns (total 15 columns):\n",
      " #   Column                      Non-Null Count  Dtype  \n",
      "---  ------                      --------------  -----  \n",
      " 0   id                          13945 non-null  float64\n",
      " 1   graduacao                   13950 non-null  object \n",
      " 2   universidade                13920 non-null  object \n",
      " 3   profissao                   13977 non-null  object \n",
      " 4   organizacao                 13961 non-null  object \n",
      " 5   pretende_fazer_cursos_lit   13989 non-null  float64\n",
      " 6   interesse_mba_lit           14003 non-null  float64\n",
      " 7   importante_ter_certificado  13918 non-null  float64\n",
      " 8   horas_semanais_estudo       13959 non-null  float64\n",
      " 9   como_conheceu_lit           13915 non-null  object \n",
      " 10  total_modulos               13987 non-null  float64\n",
      " 11  modulos_iniciados           14044 non-null  float64\n",
      " 12  modulos_finalizados         13924 non-null  float64\n",
      " 13  certificados                13979 non-null  float64\n",
      " 14  categoria                   15857 non-null  object \n",
      "dtypes: float64(9), object(6)\n",
      "memory usage: 1.8+ MB\n"
     ]
    }
   ],
   "source": [
    "df_training_dataset.info()"
   ]
  },
  {
   "cell_type": "code",
   "execution_count": 57,
   "metadata": {},
   "outputs": [
    {
     "data": {
      "text/plain": [
       "id                            13945\n",
       "graduacao                         6\n",
       "universidade                     21\n",
       "profissao                        12\n",
       "organizacao                      11\n",
       "pretende_fazer_cursos_lit         2\n",
       "interesse_mba_lit                 2\n",
       "importante_ter_certificado        1\n",
       "horas_semanais_estudo             9\n",
       "como_conheceu_lit                 9\n",
       "total_modulos                   578\n",
       "modulos_iniciados               372\n",
       "modulos_finalizados             339\n",
       "certificados                     23\n",
       "categoria                         6\n",
       "dtype: int64"
      ]
     },
     "execution_count": 57,
     "metadata": {},
     "output_type": "execute_result"
    }
   ],
   "source": [
    "df_training_dataset.nunique()"
   ]
  },
  {
   "cell_type": "markdown",
   "metadata": {},
   "source": [
    "## Análise dos dados:"
   ]
  },
  {
   "cell_type": "code",
   "execution_count": 58,
   "metadata": {},
   "outputs": [
    {
     "name": "stdout",
     "output_type": "stream",
     "text": [
      "Quantidade de nas por coluna\n",
      "id                            1912\n",
      "graduacao                     1907\n",
      "universidade                  1937\n",
      "profissao                     1880\n",
      "organizacao                   1896\n",
      "pretende_fazer_cursos_lit     1868\n",
      "interesse_mba_lit             1854\n",
      "importante_ter_certificado    1939\n",
      "horas_semanais_estudo         1898\n",
      "como_conheceu_lit             1942\n",
      "total_modulos                 1870\n",
      "modulos_iniciados             1813\n",
      "modulos_finalizados           1933\n",
      "certificados                  1878\n",
      "categoria                        0\n",
      "dtype: int64\n",
      "\n",
      "Quantidade de categorias não únicas:\n",
      "id                            13945\n",
      "graduacao                         6\n",
      "universidade                     21\n",
      "profissao                        12\n",
      "organizacao                      11\n",
      "pretende_fazer_cursos_lit         2\n",
      "interesse_mba_lit                 2\n",
      "importante_ter_certificado        1\n",
      "horas_semanais_estudo             9\n",
      "como_conheceu_lit                 9\n",
      "total_modulos                   578\n",
      "modulos_iniciados               372\n",
      "modulos_finalizados             339\n",
      "certificados                     23\n",
      "categoria                         6\n",
      "dtype: int64\n",
      "\n",
      "Detahamento das colunas com até 30 categorias\n",
      "\n",
      "graduacao\n",
      "Licenciatura      2398\n",
      "Bacharelado       2329\n",
      "Especialização    2321\n",
      "MBA               2311\n",
      "Tecnólogo         2296\n",
      "SEM FORMAÇÃO      2295\n",
      "Name: graduacao, dtype: int64\n",
      "\n",
      "universidade\n",
      "INSPER INSTITUTO DE ENSINO E PESQUISA    696\n",
      "UFPE                                     696\n",
      "UEPB                                     694\n",
      "UNIP                                     690\n",
      "Unesp                                    684\n",
      "Escola Paulista de Direito               677\n",
      "UFRJ                                     673\n",
      "UFRN                                     673\n",
      "FACULDADE ANHANGUERA                     672\n",
      "UNIVERSIDADE CRUZEIRO DO SUL             670\n",
      "Universidade Metodista de Sao Paulo      669\n",
      "USP                                      662\n",
      "UNICAMP                                  660\n",
      "UNIVERSIDADE PRESBITERIANA MACKENZIE     656\n",
      "UNIVERSIDADE ESTADUAL DE PONTA GROSSA    654\n",
      "UFSCar                                   654\n",
      "FGV-RJ                                   651\n",
      "UNIVERSIDADE NOVE DE JULHO               632\n",
      "UFF                                      631\n",
      "FATEC                                    621\n",
      "CENTRO UNIVERSITÁRIO ESTÁCIO DA SÁ       605\n",
      "Name: universidade, dtype: int64\n",
      "\n",
      "profissao\n",
      "Diretor                    1218\n",
      "Advogado                   1205\n",
      "Analista Senior            1196\n",
      "SEM EXPERIÊNCIA            1176\n",
      "Outros                     1174\n",
      "Coordenador                1163\n",
      "Analista                   1162\n",
      "Assessor                   1155\n",
      "Gerente                    1151\n",
      "Supervisor                 1140\n",
      "Sócio/Dono/Proprietário    1138\n",
      "Engenheiro                 1099\n",
      "Name: profissao, dtype: int64\n",
      "\n",
      "organizacao\n",
      "Eletroeletronicos    1319\n",
      "Siderurgica          1291\n",
      "Eletrodomesticos     1281\n",
      "Estado               1281\n",
      "Entretenimento       1277\n",
      "Oleo e Gas           1273\n",
      "servicos             1270\n",
      "Montadora            1263\n",
      "Borracha             1253\n",
      "Laminados            1230\n",
      "e-commerce           1223\n",
      "Name: organizacao, dtype: int64\n",
      "\n",
      "pretende_fazer_cursos_lit\n",
      "0.0    7035\n",
      "1.0    6954\n",
      "Name: pretende_fazer_cursos_lit, dtype: int64\n",
      "\n",
      "interesse_mba_lit\n",
      "0.0    7058\n",
      "1.0    6945\n",
      "Name: interesse_mba_lit, dtype: int64\n",
      "\n",
      "importante_ter_certificado\n",
      "1.0    13918\n",
      "Name: importante_ter_certificado, dtype: int64\n",
      "\n",
      "horas_semanais_estudo\n",
      "10.0    1612\n",
      "2.0     1584\n",
      "6.0     1577\n",
      "8.0     1568\n",
      "7.0     1560\n",
      "4.0     1525\n",
      "3.0     1515\n",
      "9.0     1509\n",
      "5.0     1509\n",
      "Name: horas_semanais_estudo, dtype: int64\n",
      "\n",
      "como_conheceu_lit\n",
      "Outros                               2831\n",
      "Linkedin                             1449\n",
      "Facebook                             1425\n",
      "Google                               1415\n",
      "Mídia (revista/jornal/web)           1378\n",
      "YouTube                              1360\n",
      "Saint Paul                           1357\n",
      "Minha empresa - benefício LITpass    1352\n",
      "Instagram                            1348\n",
      "Name: como_conheceu_lit, dtype: int64\n",
      "\n",
      "certificados\n",
      "0.0     11800\n",
      "1.0      1075\n",
      "2.0       402\n",
      "3.0       376\n",
      "4.0       130\n",
      "5.0        60\n",
      "6.0        43\n",
      "7.0        33\n",
      "8.0        18\n",
      "9.0        11\n",
      "11.0       11\n",
      "10.0        4\n",
      "17.0        3\n",
      "12.0        3\n",
      "20.0        2\n",
      "25.0        1\n",
      "13.0        1\n",
      "16.0        1\n",
      "32.0        1\n",
      "29.0        1\n",
      "15.0        1\n",
      "18.0        1\n",
      "14.0        1\n",
      "Name: certificados, dtype: int64\n",
      "\n",
      "categoria\n",
      "perfil6    4539\n",
      "perfil2    4215\n",
      "perfil1    2472\n",
      "perfil5    1917\n",
      "perfil4    1661\n",
      "perfil3    1053\n",
      "Name: categoria, dtype: int64\n"
     ]
    }
   ],
   "source": [
    "# Quantidade de NaN's por coluna\n",
    "print('Quantidade de na''s por coluna')\n",
    "print(df_training_dataset.isna().sum())\n",
    "\n",
    "# Distribuição dos categóricos\n",
    "print('\\nQuantidade de categorias não únicas:')\n",
    "print(df_training_dataset.nunique())\n",
    "\n",
    "# Print columns with less than 30 categories\n",
    "print('\\nDetahamento das colunas com até 30 categorias')\n",
    "a = df_training_dataset.nunique()\n",
    "a = [col for col in a.index if a.loc[col] < 30]\n",
    "for col in a:\n",
    "    print('\\n' + col)\n",
    "    print(df_training_dataset[col].value_counts())"
   ]
  },
  {
   "cell_type": "markdown",
   "metadata": {},
   "source": [
    "<hr>\n",
    "\n",
    "## Detalhamento do desafio: classificação multiclasse\n",
    "\n",
    "Este é um desafio cujo objetivo de negócio é a segmentação dos usuários de uma plataforma de ensino. Para tal, podemos utilizar duas abordagens: aprendizado de máquina supervisionado (classificação) ou não-supervisionado (clustering). Neste desafio será aplicada a classificação, pois é disponível um dataset já com \"labels\", ou em outras palavras, já com exemplos de dados juntamente com a variável alvo.\n",
    "\n",
    "Na biblioteca scikit-learn temos diversos algoritmos para classificação. O participante é livre para utilizar o framework que desejar para completar esse desafio.\n",
    "\n",
    "Neste notebook será mostrado um exeplo de uso do algoritmo \"Decision Tree\" para classificar parte dos estudantes em seis diferentes perfís."
   ]
  },
  {
   "cell_type": "markdown",
   "metadata": {},
   "source": [
    "# Atenção!\n",
    "\n",
    "A coluna-alvo neste desafio é a coluna ``categoria``"
   ]
  },
  {
   "cell_type": "markdown",
   "metadata": {},
   "source": [
    "<hr>"
   ]
  },
  {
   "cell_type": "markdown",
   "metadata": {},
   "source": [
    "Aqui importamos todas as biblitecas que serão utilizadas para o balanceamento e treinamento dos dados"
   ]
  },
  {
   "cell_type": "code",
   "execution_count": 59,
   "metadata": {},
   "outputs": [],
   "source": [
    "from sklearn.model_selection  import train_test_split\n",
    "                                     \n",
    "from sklearn.pipeline         import FeatureUnion\n",
    "                                     \n",
    "from sklearn.preprocessing    import OneHotEncoder, FunctionTransformer\n",
    "from sklearn.metrics          import f1_score, accuracy_score,\\\n",
    "                                     plot_confusion_matrix\n",
    "# Balanceamento das categorias\n",
    "from imblearn.over_sampling   import SMOTE\n",
    "from imblearn.under_sampling  import RandomUnderSampler\n",
    "from imblearn.pipeline        import Pipeline\n",
    "\n",
    "# Algoritmo utilizado XGBClassifier\n",
    "import xgboost                as xgb"
   ]
  },
  {
   "cell_type": "markdown",
   "metadata": {},
   "source": [
    "Não vamos utilizar as colunas 'id' e 'importante_ter_certificado', pois id é um índice e a outra é constante."
   ]
  },
  {
   "cell_type": "markdown",
   "metadata": {},
   "source": [
    "## Pre-processando o dataset antes do treinamento"
   ]
  },
  {
   "cell_type": "markdown",
   "metadata": {},
   "source": [
    "Separando as colunas categóricas, das numéricas:"
   ]
  },
  {
   "cell_type": "code",
   "execution_count": 60,
   "metadata": {},
   "outputs": [],
   "source": [
    "# Lista de colunas não utilizadas\n",
    "drop_cols = ['id', 'importante_ter_certificado']\n",
    "\n",
    "# Cria lista das colunas categóricas\n",
    "a = df_training_dataset.nunique()\n",
    "col_cat = [col for col in a.index if  (df_training_dataset[col].dtype == 'O')\n",
    "                                & (col != 'categoria')]\n",
    "\n",
    "# Lista de colunas categóricas a codificar\n",
    "col_cat = [col for col in col_cat if col not in drop_cols]\n",
    "# Lista colunas numéricas\n",
    "col_num = [col for col in df_training_dataset.columns if col not in \\\n",
    "                                         (col_cat + drop_cols + ['categoria'])]\n",
    "\n",
    "del a"
   ]
  },
  {
   "cell_type": "markdown",
   "metadata": {},
   "source": [
    "### Selecionando FEATURES (X) e definindo a variável TARGET (y)"
   ]
  },
  {
   "cell_type": "code",
   "execution_count": 61,
   "metadata": {},
   "outputs": [],
   "source": [
    "X = df_training_dataset.iloc[:,:-1]\n",
    "y = df_training_dataset.iloc[:,-1]"
   ]
  },
  {
   "cell_type": "markdown",
   "metadata": {},
   "source": [
    "### Criando a partição de treino (80%) e de testes (20%)"
   ]
  },
  {
   "cell_type": "code",
   "execution_count": 62,
   "metadata": {},
   "outputs": [],
   "source": [
    "X_train, X_test, y_train, y_test = train_test_split(X, y, train_size=0.8, random_state = 123)"
   ]
  },
  {
   "cell_type": "markdown",
   "metadata": {},
   "source": [
    "### Preparando os parâmetros para o OneHotEncoder, e para a substituição dos na's"
   ]
  },
  {
   "cell_type": "code",
   "execution_count": 63,
   "metadata": {},
   "outputs": [],
   "source": [
    "# Busca categorias das colunas categóricas\n",
    "categorias = {}\n",
    "for col in col_cat:    \n",
    "    categorias[col]= list(df_training_dataset[col].value_counts().index)\n",
    "    \n",
    "# Preenche NaNs\n",
    "valores = {'universidade':'Não Informada', 'graduacao':'Não Informada',\n",
    "           'profissao':'Não Informada', 'organizacao':'Não Informada',\n",
    "           'pretende_fazer_cursos_lit':0.0,\n",
    "           'interesse_mba_lit':0.0,\n",
    "           'horas_semanais_estudo': X_train['horas_semanais_estudo'].mean(),\n",
    "           'como_conheceu_lit':'Outros',\n",
    "           'total_modulos':X_train['total_modulos'].mean(),\n",
    "           'modulos_iniciados':X_train['modulos_iniciados'].mean(),\n",
    "           'modulos_finalizados':X_train['modulos_finalizados'].mean(),\n",
    "           'certificados':X_train['certificados'].mean()\n",
    "           }\n",
    "\n",
    "# Adiciona categorias preenchidos\n",
    "for col in categorias:\n",
    "    if valores[col] not in categorias[col]:\n",
    "        categorias[col].append(valores[col])       \n",
    "        \n",
    "# Gera lista de categorias a codificar\n",
    "lista_cat = [categorias[col] for col in col_cat]\n",
    "\n",
    "# Apaga variáveis já utilizadas\n",
    "del [df_training_dataset, col]"
   ]
  },
  {
   "cell_type": "markdown",
   "metadata": {},
   "source": [
    "### Removendo as colunas que não serão utilizadas pelo algoritmo"
   ]
  },
  {
   "cell_type": "code",
   "execution_count": 64,
   "metadata": {},
   "outputs": [],
   "source": [
    "drop_columns = FunctionTransformer(lambda x: x.drop(columns = drop_cols,\n",
    "                                                    inplace= False),\n",
    "                                   validate=False)"
   ]
  },
  {
   "cell_type": "markdown",
   "metadata": {},
   "source": [
    "### Substituindo os valores nulos"
   ]
  },
  {
   "cell_type": "code",
   "execution_count": 65,
   "metadata": {},
   "outputs": [],
   "source": [
    "fill_columns = FunctionTransformer(lambda x: x.fillna(value = valores,\n",
    "                                                      inplace= False),\n",
    "                                   validate=False)"
   ]
  },
  {
   "cell_type": "markdown",
   "metadata": {},
   "source": [
    "### Separação em colunas categóricas e colunas numéricas"
   ]
  },
  {
   "cell_type": "code",
   "execution_count": 66,
   "metadata": {},
   "outputs": [],
   "source": [
    "categorical_columns = FunctionTransformer(lambda x: x[col_cat],\n",
    "                                          validate=False)\n",
    "\n",
    "numeric_columns = FunctionTransformer(lambda x: x[col_num],\n",
    "                                      validate=False)\n"
   ]
  },
  {
   "cell_type": "markdown",
   "metadata": {},
   "source": [
    "### Balanceamento das categorias alvo"
   ]
  },
  {
   "cell_type": "code",
   "execution_count": 67,
   "metadata": {},
   "outputs": [],
   "source": [
    "over = SMOTE(sampling_strategy='auto')\n",
    "\n",
    "under = RandomUnderSampler(sampling_strategy='auto', random_state=555)"
   ]
  },
  {
   "cell_type": "markdown",
   "metadata": {},
   "source": [
    "### Codificação das colunas categóricas"
   ]
  },
  {
   "cell_type": "code",
   "execution_count": 68,
   "metadata": {},
   "outputs": [],
   "source": [
    "ohe = OneHotEncoder(handle_unknown='ignore', categories=lista_cat)\n"
   ]
  },
  {
   "cell_type": "markdown",
   "metadata": {},
   "source": [
    "### Modelo Extreme Gradient Booster, com parâmetros já refinados"
   ]
  },
  {
   "cell_type": "code",
   "execution_count": 69,
   "metadata": {},
   "outputs": [],
   "source": [
    "model = xgb.XGBClassifier(booster='gbtree',\n",
    "                          n_estimators=200, eta=0.05, max_depth=6,\n",
    "                          min_child_weight=2, gamma=0.5, subsample=1,\n",
    "                          colsample_bytree=1, objective='multi:softmax',\n",
    "                          eval_metric='merror', num_class=6, n_jobs=4)"
   ]
  },
  {
   "cell_type": "markdown",
   "metadata": {},
   "source": [
    "<hr>"
   ]
  },
  {
   "cell_type": "markdown",
   "metadata": {},
   "source": [
    "## Montando o Pipeline"
   ]
  },
  {
   "cell_type": "code",
   "execution_count": 70,
   "metadata": {},
   "outputs": [],
   "source": [
    "# Colunas categóricas\n",
    "cat_features_steps = [('cc', categorical_columns),\n",
    "                      ('ohe', ohe)]\n",
    "\n",
    "# União de categóricas com numéricas\n",
    "union = FeatureUnion([('cf', Pipeline(cat_features_steps)),\n",
    "                      ('nc', numeric_columns)\n",
    "                      ])\n",
    "\n",
    "# Assemble Pipeline\n",
    "steps = [('dc'   , drop_columns),\n",
    "         ('fc'   , fill_columns),\n",
    "         ('un'   , union),\n",
    "         ('over', over),\n",
    "         ('under', under), \n",
    "         ('model', model)]\n",
    "\n",
    "pipe = Pipeline(steps=steps)"
   ]
  },
  {
   "cell_type": "markdown",
   "metadata": {},
   "source": [
    "### Treinando o Pipeline"
   ]
  },
  {
   "cell_type": "code",
   "execution_count": 71,
   "metadata": {},
   "outputs": [
    {
     "data": {
      "text/plain": [
       "Pipeline(steps=[('dc',\n",
       "                 FunctionTransformer(func=<function <lambda> at 0x000001A990DCE828>)),\n",
       "                ('fc',\n",
       "                 FunctionTransformer(func=<function <lambda> at 0x000001A990DCEC18>)),\n",
       "                ('un',\n",
       "                 FeatureUnion(transformer_list=[('cf',\n",
       "                                                 Pipeline(steps=[('cc',\n",
       "                                                                  FunctionTransformer(func=<function <lambda> at 0x000001A990DDD048>)),\n",
       "                                                                 ('ohe',\n",
       "                                                                  OneHotEncoder(categories=[['Licenciatura',\n",
       "                                                                                             'Bacharela...\n",
       "                               interaction_constraints='',\n",
       "                               learning_rate=0.0500000007, max_delta_step=0,\n",
       "                               max_depth=6, min_child_weight=2, missing=nan,\n",
       "                               monotone_constraints='()', n_estimators=200,\n",
       "                               n_jobs=4, num_class=6, num_parallel_tree=1,\n",
       "                               objective='multi:softprob', random_state=0,\n",
       "                               reg_alpha=0, reg_lambda=1, scale_pos_weight=None,\n",
       "                               subsample=1, tree_method='exact',\n",
       "                               validate_parameters=1, verbosity=None))])"
      ]
     },
     "execution_count": 71,
     "metadata": {},
     "output_type": "execute_result"
    }
   ],
   "source": [
    "pipe.fit(X_train, y_train)\n"
   ]
  },
  {
   "cell_type": "markdown",
   "metadata": {},
   "source": [
    "### Fazendo previsões na amostra de teste"
   ]
  },
  {
   "cell_type": "code",
   "execution_count": 72,
   "metadata": {},
   "outputs": [
    {
     "name": "stdout",
     "output_type": "stream",
     "text": [
      "['perfil2' 'perfil5' 'perfil2' ... 'perfil1' 'perfil6' 'perfil3']\n"
     ]
    }
   ],
   "source": [
    "y_pred = pipe.predict(X_test)\n",
    "print(y_pred)"
   ]
  },
  {
   "cell_type": "markdown",
   "metadata": {},
   "source": [
    "### Analisando a qualidade do modelo através da matriz de confusão"
   ]
  },
  {
   "cell_type": "code",
   "execution_count": 73,
   "metadata": {},
   "outputs": [],
   "source": [
    "import matplotlib.pyplot as plt\n",
    "import numpy as np\n",
    "import itertools\n",
    "\n",
    "def plot_confusion_matrix(cm, target_names, title='Confusion matrix', cmap=None, normalize=True):\n",
    "    accuracy = np.trace(cm) / float(np.sum(cm))\n",
    "    misclass = 1 - accuracy\n",
    "    if cmap is None:\n",
    "        cmap = plt.get_cmap('Blues')\n",
    "    plt.figure(figsize=(8, 6))\n",
    "    plt.imshow(cm, interpolation='nearest', cmap=cmap)\n",
    "    plt.title(title)\n",
    "    plt.colorbar()\n",
    "    if target_names is not None:\n",
    "        tick_marks = np.arange(len(target_names))\n",
    "        plt.xticks(tick_marks, target_names, rotation=45)\n",
    "        plt.yticks(tick_marks, target_names)\n",
    "    if normalize:\n",
    "        cm = cm.astype('float') / cm.sum(axis=1)[:, np.newaxis]\n",
    "    thresh = cm.max() / 1.5 if normalize else cm.max() / 2\n",
    "    for i, j in itertools.product(range(cm.shape[0]), range(cm.shape[1])):\n",
    "        if normalize:\n",
    "            plt.text(j, i, \"{:0.4f}\".format(cm[i, j]),\n",
    "                     horizontalalignment=\"center\",\n",
    "                     color=\"white\" if cm[i, j] > thresh else \"black\")\n",
    "        else:\n",
    "            plt.text(j, i, \"{:,}\".format(cm[i, j]),\n",
    "                     horizontalalignment=\"center\",\n",
    "                     color=\"white\" if cm[i, j] > thresh else \"black\")\n",
    "    plt.tight_layout()\n",
    "    plt.ylabel('True label')\n",
    "    plt.xlabel('Predicted label\\naccuracy={:0.4f}; misclass={:0.4f}'.format(accuracy, misclass))\n",
    "    plt.show()"
   ]
  },
  {
   "cell_type": "code",
   "execution_count": 74,
   "metadata": {},
   "outputs": [
    {
     "data": {
      "image/png": "[encoded data removed]",
      "text/plain": [
       "<Figure size 576x432 with 2 Axes>"
      ]
     },
     "metadata": {
      "needs_background": "light"
     },
     "output_type": "display_data"
    }
   ],
   "source": [
    "from sklearn.metrics import confusion_matrix\n",
    "\n",
    "\n",
    "plot_confusion_matrix(confusion_matrix(y_test, y_pred), ['parfil1', 'perfil2', 'perfil3', 'perfil4', 'perfil5', 'perfil6'])"
   ]
  },
  {
   "cell_type": "markdown",
   "metadata": {},
   "source": [
    "<hr>"
   ]
  },
  {
   "cell_type": "markdown",
   "metadata": {},
   "source": [
    "## Retreinando o modelo com todos os dados"
   ]
  },
  {
   "cell_type": "code",
   "execution_count": 76,
   "metadata": {},
   "outputs": [],
   "source": [
    "# Recalcula novas médias, com o arquivo completo\n",
    "# Preenche NaNs\n",
    "valores = {'universidade':'Não Informada', 'graduacao':'Não Informada',\n",
    "           'profissao':'Não Informada', 'organizacao':'Não Informada',\n",
    "           'pretende_fazer_cursos_lit':0.0,\n",
    "           'interesse_mba_lit':0.0,\n",
    "           'horas_semanais_estudo': X['horas_semanais_estudo'].mean(),\n",
    "           'como_conheceu_lit':'Outros',\n",
    "           'total_modulos':X['total_modulos'].mean(),\n",
    "           'modulos_iniciados':X['modulos_iniciados'].mean(),\n",
    "           'modulos_finalizados':X['modulos_finalizados'].mean(),\n",
    "           'certificados':X['certificados'].mean()\n",
    "           }\n",
    "\n",
    "fill_columns = FunctionTransformer(lambda x: x.fillna(value = valores,\n",
    "                                                      inplace= False),\n",
    "                                   validate=False)\n",
    "\n",
    "categorical_columns = FunctionTransformer(lambda x: x[col_cat],\n",
    "                                          validate=False)\n",
    "\n",
    "# Colunas categóricas\n",
    "cat_features_steps = [('cc', categorical_columns),\n",
    "                      ('ohe', ohe)]\n",
    "\n",
    "# União de categóricas com numéricas\n",
    "union = FeatureUnion([('cf', Pipeline(cat_features_steps)),\n",
    "                      ('nc', numeric_columns)\n",
    "                      ])\n",
    "\n",
    "# Assemble Pipeline\n",
    "steps = [('dc'   , drop_columns),\n",
    "         ('fc'   , fill_columns),\n",
    "         ('un'   , union),\n",
    "         ('over', over),\n",
    "         ('under', under), \n",
    "         ('model', model)]\n",
    "\n",
    "pipe = Pipeline(steps=steps)"
   ]
  },
  {
   "cell_type": "code",
   "execution_count": 78,
   "metadata": {},
   "outputs": [
    {
     "data": {
      "text/plain": [
       "Pipeline(steps=[('dc',\n",
       "                 FunctionTransformer(func=<function <lambda> at 0x000001A990DCE828>)),\n",
       "                ('fc',\n",
       "                 FunctionTransformer(func=<function <lambda> at 0x000001A9910F5168>)),\n",
       "                ('un',\n",
       "                 FeatureUnion(transformer_list=[('cf',\n",
       "                                                 Pipeline(steps=[('cc',\n",
       "                                                                  FunctionTransformer(func=<function <lambda> at 0x000001A9910F5438>)),\n",
       "                                                                 ('ohe',\n",
       "                                                                  OneHotEncoder(categories=[['Licenciatura',\n",
       "                                                                                             'Bacharela...\n",
       "                               interaction_constraints='',\n",
       "                               learning_rate=0.0500000007, max_delta_step=0,\n",
       "                               max_depth=6, min_child_weight=2, missing=nan,\n",
       "                               monotone_constraints='()', n_estimators=200,\n",
       "                               n_jobs=4, num_class=6, num_parallel_tree=1,\n",
       "                               objective='multi:softprob', random_state=0,\n",
       "                               reg_alpha=0, reg_lambda=1, scale_pos_weight=None,\n",
       "                               subsample=1, tree_method='exact',\n",
       "                               validate_parameters=1, verbosity=None))])"
      ]
     },
     "execution_count": 78,
     "metadata": {},
     "output_type": "execute_result"
    }
   ],
   "source": [
    "pipe.fit(X, y)"
   ]
  },
  {
   "cell_type": "markdown",
   "metadata": {},
   "source": [
    "## Scoring dos dados necessários para entregar a solução"
   ]
  },
  {
   "cell_type": "markdown",
   "metadata": {},
   "source": [
    "Como entrega da sua solução, esperamos os resultados classificados no seguinte dataset chamado \"to_be_scored.csv\":"
   ]
  },
  {
   "cell_type": "markdown",
   "metadata": {},
   "source": [
    "### Download da \"folha de respostas\""
   ]
  },
  {
   "cell_type": "code",
   "execution_count": 80,
   "metadata": {},
   "outputs": [
    {
     "data": {
      "text/html": [
       "<div>\n",
       "<style scoped>\n",
       "    .dataframe tbody tr th:only-of-type {\n",
       "        vertical-align: middle;\n",
       "    }\n",
       "\n",
       "    .dataframe tbody tr th {\n",
       "        vertical-align: top;\n",
       "    }\n",
       "\n",
       "    .dataframe thead th {\n",
       "        text-align: right;\n",
       "    }\n",
       "</style>\n",
       "<table border=\"1\" class=\"dataframe\">\n",
       "  <thead>\n",
       "    <tr style=\"text-align: right;\">\n",
       "      <th></th>\n",
       "      <th>id</th>\n",
       "      <th>graduacao</th>\n",
       "      <th>universidade</th>\n",
       "      <th>profissao</th>\n",
       "      <th>organizacao</th>\n",
       "      <th>pretende_fazer_cursos_lit</th>\n",
       "      <th>interesse_mba_lit</th>\n",
       "      <th>importante_ter_certificado</th>\n",
       "      <th>horas_semanais_estudo</th>\n",
       "      <th>como_conheceu_lit</th>\n",
       "      <th>total_modulos</th>\n",
       "      <th>modulos_iniciados</th>\n",
       "      <th>modulos_finalizados</th>\n",
       "      <th>certificados</th>\n",
       "    </tr>\n",
       "  </thead>\n",
       "  <tbody>\n",
       "    <tr>\n",
       "      <th>995</th>\n",
       "      <td>741745189</td>\n",
       "      <td>SEM FORMAÇÃO</td>\n",
       "      <td>UNIVERSIDADE NOVE DE JULHO</td>\n",
       "      <td>Coordenador</td>\n",
       "      <td>Borracha</td>\n",
       "      <td>0</td>\n",
       "      <td>0</td>\n",
       "      <td>1</td>\n",
       "      <td>2</td>\n",
       "      <td>YouTube</td>\n",
       "      <td>245</td>\n",
       "      <td>63</td>\n",
       "      <td>45</td>\n",
       "      <td>1</td>\n",
       "    </tr>\n",
       "    <tr>\n",
       "      <th>996</th>\n",
       "      <td>996387882</td>\n",
       "      <td>Bacharelado</td>\n",
       "      <td>UFRN</td>\n",
       "      <td>Assessor</td>\n",
       "      <td>Estado</td>\n",
       "      <td>1</td>\n",
       "      <td>1</td>\n",
       "      <td>1</td>\n",
       "      <td>8</td>\n",
       "      <td>Google</td>\n",
       "      <td>163</td>\n",
       "      <td>111</td>\n",
       "      <td>96</td>\n",
       "      <td>0</td>\n",
       "    </tr>\n",
       "    <tr>\n",
       "      <th>997</th>\n",
       "      <td>668869418</td>\n",
       "      <td>Bacharelado</td>\n",
       "      <td>UFSCar</td>\n",
       "      <td>Gerente</td>\n",
       "      <td>Siderurgica</td>\n",
       "      <td>1</td>\n",
       "      <td>1</td>\n",
       "      <td>1</td>\n",
       "      <td>9</td>\n",
       "      <td>Facebook</td>\n",
       "      <td>56</td>\n",
       "      <td>10</td>\n",
       "      <td>4</td>\n",
       "      <td>0</td>\n",
       "    </tr>\n",
       "    <tr>\n",
       "      <th>998</th>\n",
       "      <td>676531718</td>\n",
       "      <td>Tecnólogo</td>\n",
       "      <td>FATEC</td>\n",
       "      <td>Outros</td>\n",
       "      <td>servicos</td>\n",
       "      <td>1</td>\n",
       "      <td>1</td>\n",
       "      <td>1</td>\n",
       "      <td>9</td>\n",
       "      <td>Mídia (revista/jornal/web)</td>\n",
       "      <td>138</td>\n",
       "      <td>60</td>\n",
       "      <td>30</td>\n",
       "      <td>0</td>\n",
       "    </tr>\n",
       "    <tr>\n",
       "      <th>999</th>\n",
       "      <td>388402340</td>\n",
       "      <td>Especialização</td>\n",
       "      <td>UNIP</td>\n",
       "      <td>Advogado</td>\n",
       "      <td>Montadora</td>\n",
       "      <td>0</td>\n",
       "      <td>0</td>\n",
       "      <td>1</td>\n",
       "      <td>9</td>\n",
       "      <td>Mídia (revista/jornal/web)</td>\n",
       "      <td>22</td>\n",
       "      <td>20</td>\n",
       "      <td>19</td>\n",
       "      <td>0</td>\n",
       "    </tr>\n",
       "  </tbody>\n",
       "</table>\n",
       "</div>"
      ],
      "text/plain": [
       "            id       graduacao                universidade    profissao  \\\n",
       "995  741745189    SEM FORMAÇÃO  UNIVERSIDADE NOVE DE JULHO  Coordenador   \n",
       "996  996387882     Bacharelado                        UFRN     Assessor   \n",
       "997  668869418     Bacharelado                      UFSCar      Gerente   \n",
       "998  676531718       Tecnólogo                       FATEC       Outros   \n",
       "999  388402340  Especialização                        UNIP     Advogado   \n",
       "\n",
       "     organizacao  pretende_fazer_cursos_lit  interesse_mba_lit  \\\n",
       "995     Borracha                          0                  0   \n",
       "996       Estado                          1                  1   \n",
       "997  Siderurgica                          1                  1   \n",
       "998     servicos                          1                  1   \n",
       "999    Montadora                          0                  0   \n",
       "\n",
       "     importante_ter_certificado  horas_semanais_estudo  \\\n",
       "995                           1                      2   \n",
       "996                           1                      8   \n",
       "997                           1                      9   \n",
       "998                           1                      9   \n",
       "999                           1                      9   \n",
       "\n",
       "              como_conheceu_lit  total_modulos  modulos_iniciados  \\\n",
       "995                     YouTube            245                 63   \n",
       "996                      Google            163                111   \n",
       "997                    Facebook             56                 10   \n",
       "998  Mídia (revista/jornal/web)            138                 60   \n",
       "999  Mídia (revista/jornal/web)             22                 20   \n",
       "\n",
       "     modulos_finalizados  certificados  \n",
       "995                   45             1  \n",
       "996                   96             0  \n",
       "997                    4             0  \n",
       "998                   30             0  \n",
       "999                   19             0  "
      ]
     },
     "execution_count": 80,
     "metadata": {},
     "output_type": "execute_result"
    }
   ],
   "source": [
    "#!wget --no-check-certificate --content-disposition https://raw.githubusercontent.com/vanderlei-test/dataset-3/master/to_be_scored.csv\n",
    "df_to_be_scored = pd.read_csv(r'C:\\Users\\cpcle\\OneDrive\\Documentos\\Celso\\Maratona Behind the Code 2020\\Desafio 6\\to_be_scored.csv')\n",
    "df_to_be_scored.tail()"
   ]
  },
  {
   "cell_type": "markdown",
   "metadata": {},
   "source": [
    "# Atenção!\n",
    "\n",
    "O dataframe ``to_be_scored`` é a sua \"folha de respostas\". Note que a coluna \"categoria\" não existe nessa amostra, que não pode ser então utilizada para treino de modelos de aprendizado supervisionado."
   ]
  },
  {
   "cell_type": "code",
   "execution_count": 81,
   "metadata": {
    "scrolled": true
   },
   "outputs": [
    {
     "name": "stdout",
     "output_type": "stream",
     "text": [
      "<class 'pandas.core.frame.DataFrame'>\n",
      "RangeIndex: 1000 entries, 0 to 999\n",
      "Data columns (total 14 columns):\n",
      " #   Column                      Non-Null Count  Dtype \n",
      "---  ------                      --------------  ----- \n",
      " 0   id                          1000 non-null   int64 \n",
      " 1   graduacao                   1000 non-null   object\n",
      " 2   universidade                1000 non-null   object\n",
      " 3   profissao                   1000 non-null   object\n",
      " 4   organizacao                 1000 non-null   object\n",
      " 5   pretende_fazer_cursos_lit   1000 non-null   int64 \n",
      " 6   interesse_mba_lit           1000 non-null   int64 \n",
      " 7   importante_ter_certificado  1000 non-null   int64 \n",
      " 8   horas_semanais_estudo       1000 non-null   int64 \n",
      " 9   como_conheceu_lit           1000 non-null   object\n",
      " 10  total_modulos               1000 non-null   int64 \n",
      " 11  modulos_iniciados           1000 non-null   int64 \n",
      " 12  modulos_finalizados         1000 non-null   int64 \n",
      " 13  certificados                1000 non-null   int64 \n",
      "dtypes: int64(9), object(5)\n",
      "memory usage: 109.5+ KB\n"
     ]
    }
   ],
   "source": [
    "df_to_be_scored.info()"
   ]
  },
  {
   "cell_type": "markdown",
   "metadata": {},
   "source": [
    "<hr>\n",
    "\n",
    "## Vamos aplicar o pipeline treinado ao arquivo fornecido:\n",
    "\n",
    "<hr>"
   ]
  },
  {
   "cell_type": "markdown",
   "metadata": {},
   "source": [
    "Na célula abaixo, repetimos rapidamente os mesmos passos de pré-processamento usados no exemplo dado com árvore de decisão"
   ]
  },
  {
   "cell_type": "markdown",
   "metadata": {},
   "source": [
    "<hr>\n",
    "\n",
    "Pode ser verificado abaixo que as colunas da folha de resposta agora são idênticas às que foram usadas para treinar o modelo:"
   ]
  },
  {
   "cell_type": "code",
   "execution_count": 82,
   "metadata": {},
   "outputs": [],
   "source": [
    "y_pred = pipe.predict(df_to_be_scored)"
   ]
  },
  {
   "cell_type": "code",
   "execution_count": 84,
   "metadata": {},
   "outputs": [
    {
     "data": {
      "text/html": [
       "<div>\n",
       "<style scoped>\n",
       "    .dataframe tbody tr th:only-of-type {\n",
       "        vertical-align: middle;\n",
       "    }\n",
       "\n",
       "    .dataframe tbody tr th {\n",
       "        vertical-align: top;\n",
       "    }\n",
       "\n",
       "    .dataframe thead th {\n",
       "        text-align: right;\n",
       "    }\n",
       "</style>\n",
       "<table border=\"1\" class=\"dataframe\">\n",
       "  <thead>\n",
       "    <tr style=\"text-align: right;\">\n",
       "      <th></th>\n",
       "      <th>id</th>\n",
       "      <th>graduacao</th>\n",
       "      <th>universidade</th>\n",
       "      <th>profissao</th>\n",
       "      <th>organizacao</th>\n",
       "      <th>pretende_fazer_cursos_lit</th>\n",
       "      <th>interesse_mba_lit</th>\n",
       "      <th>importante_ter_certificado</th>\n",
       "      <th>horas_semanais_estudo</th>\n",
       "      <th>como_conheceu_lit</th>\n",
       "      <th>total_modulos</th>\n",
       "      <th>modulos_iniciados</th>\n",
       "      <th>modulos_finalizados</th>\n",
       "      <th>certificados</th>\n",
       "      <th>target</th>\n",
       "    </tr>\n",
       "  </thead>\n",
       "  <tbody>\n",
       "    <tr>\n",
       "      <th>995</th>\n",
       "      <td>741745189</td>\n",
       "      <td>SEM FORMAÇÃO</td>\n",
       "      <td>UNIVERSIDADE NOVE DE JULHO</td>\n",
       "      <td>Coordenador</td>\n",
       "      <td>Borracha</td>\n",
       "      <td>0</td>\n",
       "      <td>0</td>\n",
       "      <td>1</td>\n",
       "      <td>2</td>\n",
       "      <td>YouTube</td>\n",
       "      <td>245</td>\n",
       "      <td>63</td>\n",
       "      <td>45</td>\n",
       "      <td>1</td>\n",
       "      <td>perfil1</td>\n",
       "    </tr>\n",
       "    <tr>\n",
       "      <th>996</th>\n",
       "      <td>996387882</td>\n",
       "      <td>Bacharelado</td>\n",
       "      <td>UFRN</td>\n",
       "      <td>Assessor</td>\n",
       "      <td>Estado</td>\n",
       "      <td>1</td>\n",
       "      <td>1</td>\n",
       "      <td>1</td>\n",
       "      <td>8</td>\n",
       "      <td>Google</td>\n",
       "      <td>163</td>\n",
       "      <td>111</td>\n",
       "      <td>96</td>\n",
       "      <td>0</td>\n",
       "      <td>perfil2</td>\n",
       "    </tr>\n",
       "    <tr>\n",
       "      <th>997</th>\n",
       "      <td>668869418</td>\n",
       "      <td>Bacharelado</td>\n",
       "      <td>UFSCar</td>\n",
       "      <td>Gerente</td>\n",
       "      <td>Siderurgica</td>\n",
       "      <td>1</td>\n",
       "      <td>1</td>\n",
       "      <td>1</td>\n",
       "      <td>9</td>\n",
       "      <td>Facebook</td>\n",
       "      <td>56</td>\n",
       "      <td>10</td>\n",
       "      <td>4</td>\n",
       "      <td>0</td>\n",
       "      <td>perfil6</td>\n",
       "    </tr>\n",
       "    <tr>\n",
       "      <th>998</th>\n",
       "      <td>676531718</td>\n",
       "      <td>Tecnólogo</td>\n",
       "      <td>FATEC</td>\n",
       "      <td>Outros</td>\n",
       "      <td>servicos</td>\n",
       "      <td>1</td>\n",
       "      <td>1</td>\n",
       "      <td>1</td>\n",
       "      <td>9</td>\n",
       "      <td>Mídia (revista/jornal/web)</td>\n",
       "      <td>138</td>\n",
       "      <td>60</td>\n",
       "      <td>30</td>\n",
       "      <td>0</td>\n",
       "      <td>perfil2</td>\n",
       "    </tr>\n",
       "    <tr>\n",
       "      <th>999</th>\n",
       "      <td>388402340</td>\n",
       "      <td>Especialização</td>\n",
       "      <td>UNIP</td>\n",
       "      <td>Advogado</td>\n",
       "      <td>Montadora</td>\n",
       "      <td>0</td>\n",
       "      <td>0</td>\n",
       "      <td>1</td>\n",
       "      <td>9</td>\n",
       "      <td>Mídia (revista/jornal/web)</td>\n",
       "      <td>22</td>\n",
       "      <td>20</td>\n",
       "      <td>19</td>\n",
       "      <td>0</td>\n",
       "      <td>perfil3</td>\n",
       "    </tr>\n",
       "  </tbody>\n",
       "</table>\n",
       "</div>"
      ],
      "text/plain": [
       "            id       graduacao                universidade    profissao  \\\n",
       "995  741745189    SEM FORMAÇÃO  UNIVERSIDADE NOVE DE JULHO  Coordenador   \n",
       "996  996387882     Bacharelado                        UFRN     Assessor   \n",
       "997  668869418     Bacharelado                      UFSCar      Gerente   \n",
       "998  676531718       Tecnólogo                       FATEC       Outros   \n",
       "999  388402340  Especialização                        UNIP     Advogado   \n",
       "\n",
       "     organizacao  pretende_fazer_cursos_lit  interesse_mba_lit  \\\n",
       "995     Borracha                          0                  0   \n",
       "996       Estado                          1                  1   \n",
       "997  Siderurgica                          1                  1   \n",
       "998     servicos                          1                  1   \n",
       "999    Montadora                          0                  0   \n",
       "\n",
       "     importante_ter_certificado  horas_semanais_estudo  \\\n",
       "995                           1                      2   \n",
       "996                           1                      8   \n",
       "997                           1                      9   \n",
       "998                           1                      9   \n",
       "999                           1                      9   \n",
       "\n",
       "              como_conheceu_lit  total_modulos  modulos_iniciados  \\\n",
       "995                     YouTube            245                 63   \n",
       "996                      Google            163                111   \n",
       "997                    Facebook             56                 10   \n",
       "998  Mídia (revista/jornal/web)            138                 60   \n",
       "999  Mídia (revista/jornal/web)             22                 20   \n",
       "\n",
       "     modulos_finalizados  certificados   target  \n",
       "995                   45             1  perfil1  \n",
       "996                   96             0  perfil2  \n",
       "997                    4             0  perfil6  \n",
       "998                   30             0  perfil2  \n",
       "999                   19             0  perfil3  "
      ]
     },
     "execution_count": 84,
     "metadata": {},
     "output_type": "execute_result"
    }
   ],
   "source": [
    "df_to_be_scored['target'] = y_pred\n",
    "df_to_be_scored.tail()"
   ]
  },
  {
   "cell_type": "markdown",
   "metadata": {},
   "source": [
    "### Salvando a folha de respostas como um arquivo .csv para ser submetido"
   ]
  },
  {
   "cell_type": "code",
   "execution_count": 85,
   "metadata": {},
   "outputs": [
    {
     "ename": "NameError",
     "evalue": "name 'project' is not defined",
     "output_type": "error",
     "traceback": [
      "\u001b[1;31m---------------------------------------------------------------------------\u001b[0m",
      "\u001b[1;31mNameError\u001b[0m                                 Traceback (most recent call last)",
      "\u001b[1;32m<ipython-input-85-5516f44925d3>\u001b[0m in \u001b[0;36m<module>\u001b[1;34m\u001b[0m\n\u001b[1;32m----> 1\u001b[1;33m \u001b[0mproject\u001b[0m\u001b[1;33m.\u001b[0m\u001b[0msave_data\u001b[0m\u001b[1;33m(\u001b[0m\u001b[0mfile_name\u001b[0m\u001b[1;33m=\u001b[0m\u001b[1;34mr\"C:\\Users\\cpcle\\OneDrive\\Documentos\\Celso\\Maratona Behind the Code 2020\\Desafio 6\\results.csv\"\u001b[0m\u001b[1;33m,\u001b[0m \u001b[0mdata\u001b[0m\u001b[1;33m=\u001b[0m\u001b[0mdf_to_be_scored\u001b[0m\u001b[1;33m.\u001b[0m\u001b[0mto_csv\u001b[0m\u001b[1;33m(\u001b[0m\u001b[0mindex\u001b[0m\u001b[1;33m=\u001b[0m\u001b[1;32mFalse\u001b[0m\u001b[1;33m)\u001b[0m\u001b[1;33m)\u001b[0m\u001b[1;33m\u001b[0m\u001b[1;33m\u001b[0m\u001b[0m\n\u001b[0m",
      "\u001b[1;31mNameError\u001b[0m: name 'project' is not defined"
     ]
    }
   ],
   "source": [
    "project.save_data(file_name=r\"C:\\Users\\cpcle\\OneDrive\\Documentos\\Celso\\Maratona Behind the Code 2020\\Desafio 6\\results.csv\", data=df_to_be_scored.to_csv(index=False))"
   ]
  },
  {
   "cell_type": "markdown",
   "metadata": {},
   "source": [
    "# Atenção\n",
    "\n",
    "# A execução da célula acima irá criar um novo \"data asset\" no seu projeto no Watson Studio. Você precisará realizar o download deste arquivo juntamente com este notebook e criar um arquivo zip com os arquivos **results.csv** e **notebook.ipynb** para submissão. (os arquivos devem estar nomeados desta forma)"
   ]
  },
  {
   "cell_type": "markdown",
   "metadata": {},
   "source": [
    "<hr>\n",
    "\n",
    "## Parabéns!\n",
    "\n",
    "Se você já está satisfeito com a sua solução, vá até a página abaixo e envie os arquivos necessários para submissão.\n",
    "\n",
    "# https://lit.maratona.dev\n"
   ]
  },
  {
   "cell_type": "code",
   "execution_count": null,
   "metadata": {},
   "outputs": [],
   "source": []
  }
 ],
 "metadata": {
  "kernelspec": {
   "display_name": "Python 3",
   "language": "python",
   "name": "python3"
  },
  "language_info": {
   "codemirror_mode": {
    "name": "ipython",
    "version": 3
   },
   "file_extension": ".py",
   "mimetype": "text/x-python",
   "name": "python",
   "nbconvert_exporter": "python",
   "pygments_lexer": "ipython3",
   "version": "3.7.7"
  }
 },
 "nbformat": 4,
 "nbformat_minor": 4
}
